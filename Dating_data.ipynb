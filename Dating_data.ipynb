{
 "cells": [
  {
   "cell_type": "code",
   "execution_count": 1,
   "id": "c03560b7-8f45-44b8-b72c-5d92ef5e8501",
   "metadata": {},
   "outputs": [],
   "source": [
    "import pandas as pd\n",
    "import seaborn as sns\n",
    "sns.set()\n",
    "import matplotlib.pyplot as plt"
   ]
  },
  {
   "cell_type": "code",
   "execution_count": 3,
   "id": "e94755af-c93f-4575-91f7-db561b659cbb",
   "metadata": {},
   "outputs": [],
   "source": [
    "data = pd.read_csv('dating_norms_data.csv', index_col = 0)"
   ]
  },
  {
   "cell_type": "markdown",
   "id": "c603adda-b0f2-429f-9624-533af0c20c6f",
   "metadata": {},
   "source": [
    "### 1. List the columns of the dataframe"
   ]
  },
  {
   "cell_type": "markdown",
   "id": "b89f7320-d58b-46b0-a5a3-f9cd63061f8f",
   "metadata": {},
   "source": [
    "### 2. Sort the dataframe by age"
   ]
  },
  {
   "cell_type": "markdown",
   "id": "b5ff3592-6bb3-4711-b317-617f630b8362",
   "metadata": {},
   "source": [
    "### 3. Count the categories of (a) sex, (b) diet, and (c) ethnicity"
   ]
  },
  {
   "cell_type": "markdown",
   "id": "f696e155-0d58-4a28-abc2-01586ec5bd71",
   "metadata": {},
   "source": [
    "### 4. Create a new dataframe for males over 30 who drink socially"
   ]
  },
  {
   "cell_type": "markdown",
   "id": "75ca70a4-2ac9-45ac-9e12-94a4280ed3d8",
   "metadata": {},
   "source": [
    "### 5. Create a plot that charts valence by sex"
   ]
  },
  {
   "cell_type": "markdown",
   "id": "e93601e9-d9cd-4e4c-a63c-bf06c7ef967c",
   "metadata": {},
   "source": [
    "### 6. Create a new dataframe that contains people over 30 who drink often"
   ]
  },
  {
   "cell_type": "markdown",
   "id": "6e350f66-15f3-436a-b14d-64004310ac36",
   "metadata": {},
   "source": [
    "### 7. What's the probability that a randomly chosen person is a woman?"
   ]
  },
  {
   "cell_type": "markdown",
   "id": "f80e986c-3ca9-44fb-a562-94ee90d72946",
   "metadata": {},
   "source": [
    "### 8. What's the probability that a randomly chosen person is a woman who drinks desperately?"
   ]
  },
  {
   "cell_type": "markdown",
   "id": "9ef6f75b-8626-47b0-92b0-8c5ca9378696",
   "metadata": {},
   "source": [
    "### 9. Create a dataframe that contains only valid information on who takes drugs"
   ]
  },
  {
   "cell_type": "markdown",
   "id": "f4a5e7e4-6ed3-4e75-b7c0-c944ac892258",
   "metadata": {},
   "source": [
    "### 10. Create a new column that records whether someone takes drugs or not, regardless of frequency"
   ]
  },
  {
   "cell_type": "markdown",
   "id": "db9bc95c-1a4d-4262-9837-c0b56b2244fa",
   "metadata": {},
   "source": [
    "### 11. Find out if there is a difference between the proportion of men who take drugs and the proportion of women"
   ]
  },
  {
   "cell_type": "markdown",
   "id": "f54ab391-031a-4abc-b43d-1471a53b42a7",
   "metadata": {},
   "source": [
    "### 13. What can we infer from this panel plot about gender differences in language?"
   ]
  },
  {
   "cell_type": "code",
   "execution_count": null,
   "id": "ad72baa4-2b02-4944-b1c2-caef096d8ee7",
   "metadata": {},
   "outputs": [],
   "source": [
    "variables = ['valence',\n",
    "       'arousal', 'dominance', 'auditory', 'gustatory', 'interoceptive',\n",
    "       'olfactory', 'visual', 'foot_leg', 'hand_arm', 'head', 'mouth', 'torso',\n",
    "       'concreteness', 'imageability', 'semantic_size', 'haptic']\n",
    "\n",
    "# Create the FacetGrid\n",
    "df_melted = data.melt(id_vars=['sex'], value_vars=variables)\n",
    "\n",
    "# Create the FacetGrid\n",
    "g = sns.FacetGrid(df_melted, col='variable', hue='sex', col_wrap = 4, sharey=False)\n",
    "g.map(sns.pointplot, 'sex', 'value', dodge = True, order=['male', 'female'])\n",
    "\n",
    "# Adjust the axes for better visualization\n",
    "for ax in g.axes.flat:\n",
    "    ax.set_xticklabels(ax.get_xticklabels(), rotation=45)\n",
    "\n",
    "\n",
    "g.fig.suptitle('Sex differences in language for 60k OkCupid users', fontsize=16)\n",
    "\n",
    "# Adjust layout to make room for the title\n",
    "g.fig.tight_layout(rect=[0, 0, 1, 0.95])\n",
    "\n",
    "g.add_legend(bbox_to_anchor=(1, 0.5), loc='center left')\n",
    "\n",
    "\n",
    "# Show the plot\n",
    "plt.show()"
   ]
  },
  {
   "cell_type": "markdown",
   "id": "fc59fa3c-8a09-4160-804a-e658cf3aefd0",
   "metadata": {},
   "source": [
    "### 14. What can we infer about the relation between drug-taking, sex, and language from this plot?"
   ]
  },
  {
   "cell_type": "code",
   "execution_count": null,
   "id": "b8050899-0c55-44de-9d8e-80cdb7afe734",
   "metadata": {},
   "outputs": [],
   "source": [
    "variables = ['valence',\n",
    "       'arousal', 'dominance', 'auditory', 'gustatory', 'interoceptive',\n",
    "       'olfactory', 'visual', 'foot_leg', 'hand_arm', 'head', 'mouth', 'torso',\n",
    "       'concreteness', 'imageability', 'semantic_size', 'haptic']\n",
    "\n",
    "# Create the FacetGrid\n",
    "df_melted = drugs.melt(id_vars=['sex', 'drugs_binary'], value_vars=variables)\n",
    "\n",
    "# Create the FacetGrid\n",
    "g = sns.FacetGrid(df_melted, col='variable', hue='drugs_binary', col_wrap=4, sharey=False, sharex = False)\n",
    "g.map(sns.pointplot, 'sex', 'value', dodge=True, order=['male', 'female'], hue_order=['no', 'yes'])\n",
    "\n",
    "\n",
    "# Add a title\n",
    "g.fig.suptitle('Sex differences in language for 60k OkCupid users', fontsize=16)\n",
    "\n",
    "# Adjust layout to make room for the title\n",
    "g.fig.tight_layout(rect=[0, 0, 1, 0.95])\n",
    "\n",
    "# Add a legend outside of the plot, positioned in the middle\n",
    "g.add_legend(title='Drugs Binary', bbox_to_anchor=(1, 0.5), loc='center left')\n",
    "\n",
    "# Show the plot\n",
    "plt.show()"
   ]
  },
  {
   "cell_type": "markdown",
   "id": "6e9bf6e8-a8fa-48af-a27a-2171c5979792",
   "metadata": {},
   "source": [
    "### 12. What can we infer from this panel plot about gender differences in language?"
   ]
  },
  {
   "cell_type": "markdown",
   "id": "f7a634c3-4e07-443c-a4c0-9ca9757c06f3",
   "metadata": {},
   "source": [
    "### 13. Find the person with the highest gustatory score"
   ]
  },
  {
   "cell_type": "code",
   "execution_count": null,
   "id": "34ec0c11-c1ad-41f0-8cc3-ce174748a2f6",
   "metadata": {},
   "outputs": [],
   "source": []
  }
 ],
 "metadata": {
  "kernelspec": {
   "display_name": "Python 3 (ipykernel)",
   "language": "python",
   "name": "python3"
  },
  "language_info": {
   "codemirror_mode": {
    "name": "ipython",
    "version": 3
   },
   "file_extension": ".py",
   "mimetype": "text/x-python",
   "name": "python",
   "nbconvert_exporter": "python",
   "pygments_lexer": "ipython3",
   "version": "3.9.18"
  }
 },
 "nbformat": 4,
 "nbformat_minor": 5
}
